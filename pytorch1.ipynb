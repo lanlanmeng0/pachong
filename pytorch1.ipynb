{
 "cells": [
  {
   "cell_type": "code",
   "execution_count": 1,
   "id": "1dedd73a-ee72-4371-a316-df44514d685f",
   "metadata": {},
   "outputs": [],
   "source": [
    "import torch\n",
    "import torch.nn as nn\n",
    "import torch.nn.functional as F\n",
    "\n",
    "import torchvision\n",
    "import torchvision.datasets as dset\n",
    "import torchvision.transforms as transforms\n",
    "\n",
    "import torch.optim as optim\n",
    "import torchvision.models as models\n",
    "\n",
    "import PIL.Image as Image"
   ]
  },
  {
   "cell_type": "code",
   "execution_count": 2,
   "id": "68c7ad7c-c794-4b8c-9560-6c20ba9281a1",
   "metadata": {},
   "outputs": [],
   "source": [
    "image_size = (224,224)\n",
    "data_transform=transforms.Compose([\n",
    "    transforms.Resize(image_size),\n",
    "    transforms.ToTensor(),\n",
    "    transforms.Normalize([0.485, 0.456, 0.406], [0.229, 0.224, 0.225]),\n",
    "    ])"
   ]
  },
  {
   "cell_type": "code",
   "execution_count": 3,
   "id": "a7cbfac2-68e6-47f8-acdf-db0807722c56",
   "metadata": {},
   "outputs": [
    {
     "name": "stdout",
     "output_type": "stream",
     "text": [
      "train data length: 11866\n"
     ]
    }
   ],
   "source": [
    "train_data=dset.ImageFolder(root=\"D:\\\\vs\\\\taitan\\\\taitan\\\\train\",transform=data_transform)\n",
    "# 数据集长度\n",
    "totallen = len(train_data)\n",
    "print('train data length:',totallen)"
   ]
  },
  {
   "cell_type": "code",
   "execution_count": 4,
   "id": "cfb65092-990e-436c-9db7-68e918256da5",
   "metadata": {},
   "outputs": [
    {
     "name": "stdout",
     "output_type": "stream",
     "text": [
      "train: 8306 validation: 3560\n"
     ]
    }
   ],
   "source": [
    "trainlen = int(totallen*0.7)\n",
    "vallen = totallen - trainlen\n",
    "train_db,val_db=torch.utils.data.random_split(train_data,[trainlen,vallen])\n",
    "print('train:',len(train_db),'validation:',len(val_db))"
   ]
  },
  {
   "cell_type": "code",
   "execution_count": 5,
   "id": "867f2e7a-7e1e-4b44-9f51-20086b4df98c",
   "metadata": {},
   "outputs": [],
   "source": [
    "# batch size\n",
    "bs=32\n",
    "# 训练集\n",
    "train_loader=torch.utils.data.DataLoader(train_db,batch_size=bs, shuffle=True,num_workers=2)\n",
    "# 验证集\n",
    "val_loader=torch.utils.data.DataLoader(val_db,batch_size=bs, shuffle=True,num_workers=2)"
   ]
  },
  {
   "cell_type": "code",
   "execution_count": 6,
   "id": "590ef891-fd95-4a2e-b732-b8d3ca8acba6",
   "metadata": {},
   "outputs": [],
   "source": [
    "def get_num_correct(out, labels):\n",
    "    return out.argmax(dim=1).eq(labels).sum().item()"
   ]
  },
  {
   "cell_type": "code",
   "execution_count": 7,
   "id": "aad5b811",
   "metadata": {},
   "outputs": [],
   "source": [
    "batch = next(iter(train_loader))"
   ]
  },
  {
   "cell_type": "code",
   "execution_count": 8,
   "id": "caf18b20",
   "metadata": {},
   "outputs": [
    {
     "data": {
      "text/plain": [
       "tensor([16, 35, 24, 33, 36,  0, 38, 30, 32, 35, 36,  8, 18,  0, 16, 38, 15, 33,\n",
       "        13, 28,  2, 26,  2, 20, 18, 24,  1, 38, 13,  1,  1,  9])"
      ]
     },
     "execution_count": 8,
     "metadata": {},
     "output_type": "execute_result"
    }
   ],
   "source": [
    "batch[1]"
   ]
  },
  {
   "cell_type": "code",
   "execution_count": 9,
   "id": "915f42ea-c8f0-4a77-9da6-1bf0b3efe17e",
   "metadata": {},
   "outputs": [],
   "source": [
    "resnet18 = models.resnet18(pretrained=True)"
   ]
  },
  {
   "cell_type": "code",
   "execution_count": 10,
   "id": "c40ef190-0f7b-41aa-83a1-d236ac1a5948",
   "metadata": {},
   "outputs": [
    {
     "name": "stdout",
     "output_type": "stream",
     "text": [
      "ResNet(\n",
      "  (conv1): Conv2d(3, 64, kernel_size=(7, 7), stride=(2, 2), padding=(3, 3), bias=False)\n",
      "  (bn1): BatchNorm2d(64, eps=1e-05, momentum=0.1, affine=True, track_running_stats=True)\n",
      "  (relu): ReLU(inplace=True)\n",
      "  (maxpool): MaxPool2d(kernel_size=3, stride=2, padding=1, dilation=1, ceil_mode=False)\n",
      "  (layer1): Sequential(\n",
      "    (0): BasicBlock(\n",
      "      (conv1): Conv2d(64, 64, kernel_size=(3, 3), stride=(1, 1), padding=(1, 1), bias=False)\n",
      "      (bn1): BatchNorm2d(64, eps=1e-05, momentum=0.1, affine=True, track_running_stats=True)\n",
      "      (relu): ReLU(inplace=True)\n",
      "      (conv2): Conv2d(64, 64, kernel_size=(3, 3), stride=(1, 1), padding=(1, 1), bias=False)\n",
      "      (bn2): BatchNorm2d(64, eps=1e-05, momentum=0.1, affine=True, track_running_stats=True)\n",
      "    )\n",
      "    (1): BasicBlock(\n",
      "      (conv1): Conv2d(64, 64, kernel_size=(3, 3), stride=(1, 1), padding=(1, 1), bias=False)\n",
      "      (bn1): BatchNorm2d(64, eps=1e-05, momentum=0.1, affine=True, track_running_stats=True)\n",
      "      (relu): ReLU(inplace=True)\n",
      "      (conv2): Conv2d(64, 64, kernel_size=(3, 3), stride=(1, 1), padding=(1, 1), bias=False)\n",
      "      (bn2): BatchNorm2d(64, eps=1e-05, momentum=0.1, affine=True, track_running_stats=True)\n",
      "    )\n",
      "  )\n",
      "  (layer2): Sequential(\n",
      "    (0): BasicBlock(\n",
      "      (conv1): Conv2d(64, 128, kernel_size=(3, 3), stride=(2, 2), padding=(1, 1), bias=False)\n",
      "      (bn1): BatchNorm2d(128, eps=1e-05, momentum=0.1, affine=True, track_running_stats=True)\n",
      "      (relu): ReLU(inplace=True)\n",
      "      (conv2): Conv2d(128, 128, kernel_size=(3, 3), stride=(1, 1), padding=(1, 1), bias=False)\n",
      "      (bn2): BatchNorm2d(128, eps=1e-05, momentum=0.1, affine=True, track_running_stats=True)\n",
      "      (downsample): Sequential(\n",
      "        (0): Conv2d(64, 128, kernel_size=(1, 1), stride=(2, 2), bias=False)\n",
      "        (1): BatchNorm2d(128, eps=1e-05, momentum=0.1, affine=True, track_running_stats=True)\n",
      "      )\n",
      "    )\n",
      "    (1): BasicBlock(\n",
      "      (conv1): Conv2d(128, 128, kernel_size=(3, 3), stride=(1, 1), padding=(1, 1), bias=False)\n",
      "      (bn1): BatchNorm2d(128, eps=1e-05, momentum=0.1, affine=True, track_running_stats=True)\n",
      "      (relu): ReLU(inplace=True)\n",
      "      (conv2): Conv2d(128, 128, kernel_size=(3, 3), stride=(1, 1), padding=(1, 1), bias=False)\n",
      "      (bn2): BatchNorm2d(128, eps=1e-05, momentum=0.1, affine=True, track_running_stats=True)\n",
      "    )\n",
      "  )\n",
      "  (layer3): Sequential(\n",
      "    (0): BasicBlock(\n",
      "      (conv1): Conv2d(128, 256, kernel_size=(3, 3), stride=(2, 2), padding=(1, 1), bias=False)\n",
      "      (bn1): BatchNorm2d(256, eps=1e-05, momentum=0.1, affine=True, track_running_stats=True)\n",
      "      (relu): ReLU(inplace=True)\n",
      "      (conv2): Conv2d(256, 256, kernel_size=(3, 3), stride=(1, 1), padding=(1, 1), bias=False)\n",
      "      (bn2): BatchNorm2d(256, eps=1e-05, momentum=0.1, affine=True, track_running_stats=True)\n",
      "      (downsample): Sequential(\n",
      "        (0): Conv2d(128, 256, kernel_size=(1, 1), stride=(2, 2), bias=False)\n",
      "        (1): BatchNorm2d(256, eps=1e-05, momentum=0.1, affine=True, track_running_stats=True)\n",
      "      )\n",
      "    )\n",
      "    (1): BasicBlock(\n",
      "      (conv1): Conv2d(256, 256, kernel_size=(3, 3), stride=(1, 1), padding=(1, 1), bias=False)\n",
      "      (bn1): BatchNorm2d(256, eps=1e-05, momentum=0.1, affine=True, track_running_stats=True)\n",
      "      (relu): ReLU(inplace=True)\n",
      "      (conv2): Conv2d(256, 256, kernel_size=(3, 3), stride=(1, 1), padding=(1, 1), bias=False)\n",
      "      (bn2): BatchNorm2d(256, eps=1e-05, momentum=0.1, affine=True, track_running_stats=True)\n",
      "    )\n",
      "  )\n",
      "  (layer4): Sequential(\n",
      "    (0): BasicBlock(\n",
      "      (conv1): Conv2d(256, 512, kernel_size=(3, 3), stride=(2, 2), padding=(1, 1), bias=False)\n",
      "      (bn1): BatchNorm2d(512, eps=1e-05, momentum=0.1, affine=True, track_running_stats=True)\n",
      "      (relu): ReLU(inplace=True)\n",
      "      (conv2): Conv2d(512, 512, kernel_size=(3, 3), stride=(1, 1), padding=(1, 1), bias=False)\n",
      "      (bn2): BatchNorm2d(512, eps=1e-05, momentum=0.1, affine=True, track_running_stats=True)\n",
      "      (downsample): Sequential(\n",
      "        (0): Conv2d(256, 512, kernel_size=(1, 1), stride=(2, 2), bias=False)\n",
      "        (1): BatchNorm2d(512, eps=1e-05, momentum=0.1, affine=True, track_running_stats=True)\n",
      "      )\n",
      "    )\n",
      "    (1): BasicBlock(\n",
      "      (conv1): Conv2d(512, 512, kernel_size=(3, 3), stride=(1, 1), padding=(1, 1), bias=False)\n",
      "      (bn1): BatchNorm2d(512, eps=1e-05, momentum=0.1, affine=True, track_running_stats=True)\n",
      "      (relu): ReLU(inplace=True)\n",
      "      (conv2): Conv2d(512, 512, kernel_size=(3, 3), stride=(1, 1), padding=(1, 1), bias=False)\n",
      "      (bn2): BatchNorm2d(512, eps=1e-05, momentum=0.1, affine=True, track_running_stats=True)\n",
      "    )\n",
      "  )\n",
      "  (avgpool): AdaptiveAvgPool2d(output_size=(1, 1))\n",
      "  (fc): Linear(in_features=512, out_features=1000, bias=True)\n",
      ")\n"
     ]
    }
   ],
   "source": [
    "print(resnet18)"
   ]
  },
  {
   "cell_type": "code",
   "execution_count": 11,
   "id": "3fbe8bfa",
   "metadata": {},
   "outputs": [
    {
     "data": {
      "text/plain": [
       "['hazardous_waste_dry_battery',\n",
       " 'hazardous_waste_expired_drugs',\n",
       " 'hazardous_waste_ointment',\n",
       " 'kitchen_waste_bone',\n",
       " 'kitchen_waste_eggshell',\n",
       " 'kitchen_waste_fish_bone',\n",
       " 'kitchen_waste_fruit_peel',\n",
       " 'kitchen_waste_meal',\n",
       " 'kitchen_waste_pulp',\n",
       " 'kitchen_waste_tea',\n",
       " 'kitchen_waste_vegetable',\n",
       " 'other_garbage_bamboo_chopsticks',\n",
       " 'other_garbage_cigarette',\n",
       " 'other_garbage_fast_food_box',\n",
       " 'other_garbage_flowerpot',\n",
       " 'other_garbage_soiled_plastic',\n",
       " 'other_garbage_toothpick',\n",
       " 'recyclables_anvil',\n",
       " 'recyclables_bag',\n",
       " 'recyclables_bottle',\n",
       " 'recyclables_can',\n",
       " 'recyclables_cardboard',\n",
       " 'recyclables_cosmetic_bottles',\n",
       " 'recyclables_drink_bottle',\n",
       " 'recyclables_edible_oil_barrel',\n",
       " 'recyclables_glass_cup',\n",
       " 'recyclables_metal_food_cans',\n",
       " 'recyclables_old_clothes',\n",
       " 'recyclables_paper_bags',\n",
       " 'recyclables_pillow',\n",
       " 'recyclables_plastic_bowl',\n",
       " 'recyclables_plastic_hanger',\n",
       " 'recyclables_plug_wire',\n",
       " 'recyclables_plush_toys',\n",
       " 'recyclables_pot',\n",
       " 'recyclables_powerbank',\n",
       " 'recyclables_seasoning_bottle',\n",
       " 'recyclables_shampoo_bottle',\n",
       " 'recyclables_shoes',\n",
       " 'recyclables_toys']"
      ]
     },
     "execution_count": 11,
     "metadata": {},
     "output_type": "execute_result"
    }
   ],
   "source": [
    "train_data.classes"
   ]
  },
  {
   "cell_type": "code",
   "execution_count": 12,
   "id": "7cff5fe9-a1c5-45b3-a63a-8fe38cd95cbd",
   "metadata": {},
   "outputs": [],
   "source": [
    "model = resnet18\n",
    "n_classes = len(train_data.classes)\n",
    "model.fc = nn.Linear(512, n_classes)"
   ]
  },
  {
   "cell_type": "code",
   "execution_count": 13,
   "id": "fe0fe3ca",
   "metadata": {},
   "outputs": [
    {
     "data": {
      "text/plain": [
       "ResNet(\n",
       "  (conv1): Conv2d(3, 64, kernel_size=(7, 7), stride=(2, 2), padding=(3, 3), bias=False)\n",
       "  (bn1): BatchNorm2d(64, eps=1e-05, momentum=0.1, affine=True, track_running_stats=True)\n",
       "  (relu): ReLU(inplace=True)\n",
       "  (maxpool): MaxPool2d(kernel_size=3, stride=2, padding=1, dilation=1, ceil_mode=False)\n",
       "  (layer1): Sequential(\n",
       "    (0): BasicBlock(\n",
       "      (conv1): Conv2d(64, 64, kernel_size=(3, 3), stride=(1, 1), padding=(1, 1), bias=False)\n",
       "      (bn1): BatchNorm2d(64, eps=1e-05, momentum=0.1, affine=True, track_running_stats=True)\n",
       "      (relu): ReLU(inplace=True)\n",
       "      (conv2): Conv2d(64, 64, kernel_size=(3, 3), stride=(1, 1), padding=(1, 1), bias=False)\n",
       "      (bn2): BatchNorm2d(64, eps=1e-05, momentum=0.1, affine=True, track_running_stats=True)\n",
       "    )\n",
       "    (1): BasicBlock(\n",
       "      (conv1): Conv2d(64, 64, kernel_size=(3, 3), stride=(1, 1), padding=(1, 1), bias=False)\n",
       "      (bn1): BatchNorm2d(64, eps=1e-05, momentum=0.1, affine=True, track_running_stats=True)\n",
       "      (relu): ReLU(inplace=True)\n",
       "      (conv2): Conv2d(64, 64, kernel_size=(3, 3), stride=(1, 1), padding=(1, 1), bias=False)\n",
       "      (bn2): BatchNorm2d(64, eps=1e-05, momentum=0.1, affine=True, track_running_stats=True)\n",
       "    )\n",
       "  )\n",
       "  (layer2): Sequential(\n",
       "    (0): BasicBlock(\n",
       "      (conv1): Conv2d(64, 128, kernel_size=(3, 3), stride=(2, 2), padding=(1, 1), bias=False)\n",
       "      (bn1): BatchNorm2d(128, eps=1e-05, momentum=0.1, affine=True, track_running_stats=True)\n",
       "      (relu): ReLU(inplace=True)\n",
       "      (conv2): Conv2d(128, 128, kernel_size=(3, 3), stride=(1, 1), padding=(1, 1), bias=False)\n",
       "      (bn2): BatchNorm2d(128, eps=1e-05, momentum=0.1, affine=True, track_running_stats=True)\n",
       "      (downsample): Sequential(\n",
       "        (0): Conv2d(64, 128, kernel_size=(1, 1), stride=(2, 2), bias=False)\n",
       "        (1): BatchNorm2d(128, eps=1e-05, momentum=0.1, affine=True, track_running_stats=True)\n",
       "      )\n",
       "    )\n",
       "    (1): BasicBlock(\n",
       "      (conv1): Conv2d(128, 128, kernel_size=(3, 3), stride=(1, 1), padding=(1, 1), bias=False)\n",
       "      (bn1): BatchNorm2d(128, eps=1e-05, momentum=0.1, affine=True, track_running_stats=True)\n",
       "      (relu): ReLU(inplace=True)\n",
       "      (conv2): Conv2d(128, 128, kernel_size=(3, 3), stride=(1, 1), padding=(1, 1), bias=False)\n",
       "      (bn2): BatchNorm2d(128, eps=1e-05, momentum=0.1, affine=True, track_running_stats=True)\n",
       "    )\n",
       "  )\n",
       "  (layer3): Sequential(\n",
       "    (0): BasicBlock(\n",
       "      (conv1): Conv2d(128, 256, kernel_size=(3, 3), stride=(2, 2), padding=(1, 1), bias=False)\n",
       "      (bn1): BatchNorm2d(256, eps=1e-05, momentum=0.1, affine=True, track_running_stats=True)\n",
       "      (relu): ReLU(inplace=True)\n",
       "      (conv2): Conv2d(256, 256, kernel_size=(3, 3), stride=(1, 1), padding=(1, 1), bias=False)\n",
       "      (bn2): BatchNorm2d(256, eps=1e-05, momentum=0.1, affine=True, track_running_stats=True)\n",
       "      (downsample): Sequential(\n",
       "        (0): Conv2d(128, 256, kernel_size=(1, 1), stride=(2, 2), bias=False)\n",
       "        (1): BatchNorm2d(256, eps=1e-05, momentum=0.1, affine=True, track_running_stats=True)\n",
       "      )\n",
       "    )\n",
       "    (1): BasicBlock(\n",
       "      (conv1): Conv2d(256, 256, kernel_size=(3, 3), stride=(1, 1), padding=(1, 1), bias=False)\n",
       "      (bn1): BatchNorm2d(256, eps=1e-05, momentum=0.1, affine=True, track_running_stats=True)\n",
       "      (relu): ReLU(inplace=True)\n",
       "      (conv2): Conv2d(256, 256, kernel_size=(3, 3), stride=(1, 1), padding=(1, 1), bias=False)\n",
       "      (bn2): BatchNorm2d(256, eps=1e-05, momentum=0.1, affine=True, track_running_stats=True)\n",
       "    )\n",
       "  )\n",
       "  (layer4): Sequential(\n",
       "    (0): BasicBlock(\n",
       "      (conv1): Conv2d(256, 512, kernel_size=(3, 3), stride=(2, 2), padding=(1, 1), bias=False)\n",
       "      (bn1): BatchNorm2d(512, eps=1e-05, momentum=0.1, affine=True, track_running_stats=True)\n",
       "      (relu): ReLU(inplace=True)\n",
       "      (conv2): Conv2d(512, 512, kernel_size=(3, 3), stride=(1, 1), padding=(1, 1), bias=False)\n",
       "      (bn2): BatchNorm2d(512, eps=1e-05, momentum=0.1, affine=True, track_running_stats=True)\n",
       "      (downsample): Sequential(\n",
       "        (0): Conv2d(256, 512, kernel_size=(1, 1), stride=(2, 2), bias=False)\n",
       "        (1): BatchNorm2d(512, eps=1e-05, momentum=0.1, affine=True, track_running_stats=True)\n",
       "      )\n",
       "    )\n",
       "    (1): BasicBlock(\n",
       "      (conv1): Conv2d(512, 512, kernel_size=(3, 3), stride=(1, 1), padding=(1, 1), bias=False)\n",
       "      (bn1): BatchNorm2d(512, eps=1e-05, momentum=0.1, affine=True, track_running_stats=True)\n",
       "      (relu): ReLU(inplace=True)\n",
       "      (conv2): Conv2d(512, 512, kernel_size=(3, 3), stride=(1, 1), padding=(1, 1), bias=False)\n",
       "      (bn2): BatchNorm2d(512, eps=1e-05, momentum=0.1, affine=True, track_running_stats=True)\n",
       "    )\n",
       "  )\n",
       "  (avgpool): AdaptiveAvgPool2d(output_size=(1, 1))\n",
       "  (fc): Linear(in_features=512, out_features=40, bias=True)\n",
       ")"
      ]
     },
     "execution_count": 13,
     "metadata": {},
     "output_type": "execute_result"
    }
   ],
   "source": [
    "model"
   ]
  },
  {
   "cell_type": "code",
   "execution_count": 14,
   "id": "ea673df6-d350-4f4e-9180-abab2cb089e6",
   "metadata": {},
   "outputs": [],
   "source": [
    "import torch.nn.init as init\n",
    "\n",
    "for name, module in model._modules.items():\n",
    "    if(name=='fc'):\n",
    "        # print(module.weight.shape)\n",
    "        init.kaiming_uniform_(module.weight, a=0, mode='fan_in')"
   ]
  },
  {
   "cell_type": "code",
   "execution_count": 15,
   "id": "2b619d2e",
   "metadata": {},
   "outputs": [
    {
     "name": "stdout",
     "output_type": "stream",
     "text": [
      "cpu\n"
     ]
    }
   ],
   "source": [
    "device = torch.device('cuda' if torch.cuda.is_available() else 'cpu')\n",
    "print(device)"
   ]
  },
  {
   "cell_type": "code",
   "execution_count": 16,
   "id": "4c7588fc-b0eb-4140-b0a9-4a9fbae68e20",
   "metadata": {},
   "outputs": [
    {
     "name": "stdout",
     "output_type": "stream",
     "text": [
      "loss: 401.3538728952408 train_correct: 0.5924632795569468 val_correct: 0.7435393258426967\n",
      "loss: 147.16191789507866 train_correct: 0.8489044064531663 val_correct: 0.7831460674157303\n",
      "loss: 83.91423000395298 train_correct: 0.9219841078738261 val_correct: 0.7957865168539325\n",
      "loss: 48.38707301393151 train_correct: 0.9668914038044787 val_correct: 0.8019662921348315\n",
      "loss: 29.01886761933565 train_correct: 0.9879605104743558 val_correct: 0.8134831460674158\n"
     ]
    }
   ],
   "source": [
    "optimizer=torch.optim.SGD(model.parameters(),lr=0.01)\n",
    "epoch_num = 5\n",
    "model = model.to(device)\n",
    "for epoch in range(epoch_num):\n",
    "    total_loss=0\n",
    "    total_correct=0\n",
    "    val_correct=0\n",
    "    for batch in train_loader:#GetBatch\n",
    "        images,labels=batch\n",
    "        images = images.to(device)\n",
    "        labels = labels.to(device)\n",
    "        outs=model(images)#PassBatch\n",
    "        loss=F.cross_entropy(outs,labels)#CalculateLoss\n",
    "        optimizer.zero_grad()\n",
    "        loss.backward()#CalculateGradients\n",
    "        optimizer.step()#UpdateWeights\n",
    "        total_loss+=loss.item()\n",
    "        total_correct+=get_num_correct(outs,labels)\n",
    "    for batch in val_loader:\n",
    "        images,labels=batch\n",
    "        images = images.to(device)\n",
    "        labels = labels.to(device)\n",
    "        outs=model(images)\n",
    "        val_correct+=get_num_correct(outs,labels)\n",
    "    print(\"loss:\",total_loss,\"train_correct:\",total_correct/trainlen, \"val_correct:\",val_correct/vallen)"
   ]
  },
  {
   "cell_type": "code",
   "execution_count": 28,
   "id": "9e6a156b-9b0d-476a-b545-205deb60eb5f",
   "metadata": {},
   "outputs": [],
   "source": [
    "torch.save(model, 'chdig.pth')"
   ]
  },
  {
   "cell_type": "code",
   "execution_count": 18,
   "id": "5c7b536c-abfa-426e-94ea-9c75dc19d8be",
   "metadata": {},
   "outputs": [
    {
     "name": "stdout",
     "output_type": "stream",
     "text": [
      "torch.Size([64, 3, 7, 7]) 9408\n",
      "torch.Size([64]) 64\n",
      "torch.Size([64]) 64\n",
      "torch.Size([64, 64, 3, 3]) 36864\n",
      "torch.Size([64]) 64\n",
      "torch.Size([64]) 64\n",
      "torch.Size([64, 64, 3, 3]) 36864\n",
      "torch.Size([64]) 64\n",
      "torch.Size([64]) 64\n",
      "torch.Size([64, 64, 3, 3]) 36864\n",
      "torch.Size([64]) 64\n",
      "torch.Size([64]) 64\n",
      "torch.Size([64, 64, 3, 3]) 36864\n",
      "torch.Size([64]) 64\n",
      "torch.Size([64]) 64\n",
      "torch.Size([128, 64, 3, 3]) 73728\n",
      "torch.Size([128]) 128\n",
      "torch.Size([128]) 128\n",
      "torch.Size([128, 128, 3, 3]) 147456\n",
      "torch.Size([128]) 128\n",
      "torch.Size([128]) 128\n",
      "torch.Size([128, 64, 1, 1]) 8192\n",
      "torch.Size([128]) 128\n",
      "torch.Size([128]) 128\n",
      "torch.Size([128, 128, 3, 3]) 147456\n",
      "torch.Size([128]) 128\n",
      "torch.Size([128]) 128\n",
      "torch.Size([128, 128, 3, 3]) 147456\n",
      "torch.Size([128]) 128\n",
      "torch.Size([128]) 128\n",
      "torch.Size([256, 128, 3, 3]) 294912\n",
      "torch.Size([256]) 256\n",
      "torch.Size([256]) 256\n",
      "torch.Size([256, 256, 3, 3]) 589824\n",
      "torch.Size([256]) 256\n",
      "torch.Size([256]) 256\n",
      "torch.Size([256, 128, 1, 1]) 32768\n",
      "torch.Size([256]) 256\n",
      "torch.Size([256]) 256\n",
      "torch.Size([256, 256, 3, 3]) 589824\n",
      "torch.Size([256]) 256\n",
      "torch.Size([256]) 256\n",
      "torch.Size([256, 256, 3, 3]) 589824\n",
      "torch.Size([256]) 256\n",
      "torch.Size([256]) 256\n",
      "torch.Size([512, 256, 3, 3]) 1179648\n",
      "torch.Size([512]) 512\n",
      "torch.Size([512]) 512\n",
      "torch.Size([512, 512, 3, 3]) 2359296\n",
      "torch.Size([512]) 512\n",
      "torch.Size([512]) 512\n",
      "torch.Size([512, 256, 1, 1]) 131072\n",
      "torch.Size([512]) 512\n",
      "torch.Size([512]) 512\n",
      "torch.Size([512, 512, 3, 3]) 2359296\n",
      "torch.Size([512]) 512\n",
      "torch.Size([512]) 512\n",
      "torch.Size([512, 512, 3, 3]) 2359296\n",
      "torch.Size([512]) 512\n",
      "torch.Size([512]) 512\n",
      "torch.Size([40, 512]) 20480\n",
      "torch.Size([40]) 40\n"
     ]
    }
   ],
   "source": [
    "for param in model.parameters():\n",
    "    print(param.shape, param.nelement())"
   ]
  },
  {
   "cell_type": "code",
   "execution_count": 19,
   "id": "fb973214-d153-47cf-81e8-b1979a61a3e9",
   "metadata": {},
   "outputs": [
    {
     "data": {
      "text/plain": [
       "ResNet(\n",
       "  (conv1): Conv2d(3, 64, kernel_size=(7, 7), stride=(2, 2), padding=(3, 3), bias=False)\n",
       "  (bn1): BatchNorm2d(64, eps=1e-05, momentum=0.1, affine=True, track_running_stats=True)\n",
       "  (relu): ReLU(inplace=True)\n",
       "  (maxpool): MaxPool2d(kernel_size=3, stride=2, padding=1, dilation=1, ceil_mode=False)\n",
       "  (layer1): Sequential(\n",
       "    (0): BasicBlock(\n",
       "      (conv1): Conv2d(64, 64, kernel_size=(3, 3), stride=(1, 1), padding=(1, 1), bias=False)\n",
       "      (bn1): BatchNorm2d(64, eps=1e-05, momentum=0.1, affine=True, track_running_stats=True)\n",
       "      (relu): ReLU(inplace=True)\n",
       "      (conv2): Conv2d(64, 64, kernel_size=(3, 3), stride=(1, 1), padding=(1, 1), bias=False)\n",
       "      (bn2): BatchNorm2d(64, eps=1e-05, momentum=0.1, affine=True, track_running_stats=True)\n",
       "    )\n",
       "    (1): BasicBlock(\n",
       "      (conv1): Conv2d(64, 64, kernel_size=(3, 3), stride=(1, 1), padding=(1, 1), bias=False)\n",
       "      (bn1): BatchNorm2d(64, eps=1e-05, momentum=0.1, affine=True, track_running_stats=True)\n",
       "      (relu): ReLU(inplace=True)\n",
       "      (conv2): Conv2d(64, 64, kernel_size=(3, 3), stride=(1, 1), padding=(1, 1), bias=False)\n",
       "      (bn2): BatchNorm2d(64, eps=1e-05, momentum=0.1, affine=True, track_running_stats=True)\n",
       "    )\n",
       "  )\n",
       "  (layer2): Sequential(\n",
       "    (0): BasicBlock(\n",
       "      (conv1): Conv2d(64, 128, kernel_size=(3, 3), stride=(2, 2), padding=(1, 1), bias=False)\n",
       "      (bn1): BatchNorm2d(128, eps=1e-05, momentum=0.1, affine=True, track_running_stats=True)\n",
       "      (relu): ReLU(inplace=True)\n",
       "      (conv2): Conv2d(128, 128, kernel_size=(3, 3), stride=(1, 1), padding=(1, 1), bias=False)\n",
       "      (bn2): BatchNorm2d(128, eps=1e-05, momentum=0.1, affine=True, track_running_stats=True)\n",
       "      (downsample): Sequential(\n",
       "        (0): Conv2d(64, 128, kernel_size=(1, 1), stride=(2, 2), bias=False)\n",
       "        (1): BatchNorm2d(128, eps=1e-05, momentum=0.1, affine=True, track_running_stats=True)\n",
       "      )\n",
       "    )\n",
       "    (1): BasicBlock(\n",
       "      (conv1): Conv2d(128, 128, kernel_size=(3, 3), stride=(1, 1), padding=(1, 1), bias=False)\n",
       "      (bn1): BatchNorm2d(128, eps=1e-05, momentum=0.1, affine=True, track_running_stats=True)\n",
       "      (relu): ReLU(inplace=True)\n",
       "      (conv2): Conv2d(128, 128, kernel_size=(3, 3), stride=(1, 1), padding=(1, 1), bias=False)\n",
       "      (bn2): BatchNorm2d(128, eps=1e-05, momentum=0.1, affine=True, track_running_stats=True)\n",
       "    )\n",
       "  )\n",
       "  (layer3): Sequential(\n",
       "    (0): BasicBlock(\n",
       "      (conv1): Conv2d(128, 256, kernel_size=(3, 3), stride=(2, 2), padding=(1, 1), bias=False)\n",
       "      (bn1): BatchNorm2d(256, eps=1e-05, momentum=0.1, affine=True, track_running_stats=True)\n",
       "      (relu): ReLU(inplace=True)\n",
       "      (conv2): Conv2d(256, 256, kernel_size=(3, 3), stride=(1, 1), padding=(1, 1), bias=False)\n",
       "      (bn2): BatchNorm2d(256, eps=1e-05, momentum=0.1, affine=True, track_running_stats=True)\n",
       "      (downsample): Sequential(\n",
       "        (0): Conv2d(128, 256, kernel_size=(1, 1), stride=(2, 2), bias=False)\n",
       "        (1): BatchNorm2d(256, eps=1e-05, momentum=0.1, affine=True, track_running_stats=True)\n",
       "      )\n",
       "    )\n",
       "    (1): BasicBlock(\n",
       "      (conv1): Conv2d(256, 256, kernel_size=(3, 3), stride=(1, 1), padding=(1, 1), bias=False)\n",
       "      (bn1): BatchNorm2d(256, eps=1e-05, momentum=0.1, affine=True, track_running_stats=True)\n",
       "      (relu): ReLU(inplace=True)\n",
       "      (conv2): Conv2d(256, 256, kernel_size=(3, 3), stride=(1, 1), padding=(1, 1), bias=False)\n",
       "      (bn2): BatchNorm2d(256, eps=1e-05, momentum=0.1, affine=True, track_running_stats=True)\n",
       "    )\n",
       "  )\n",
       "  (layer4): Sequential(\n",
       "    (0): BasicBlock(\n",
       "      (conv1): Conv2d(256, 512, kernel_size=(3, 3), stride=(2, 2), padding=(1, 1), bias=False)\n",
       "      (bn1): BatchNorm2d(512, eps=1e-05, momentum=0.1, affine=True, track_running_stats=True)\n",
       "      (relu): ReLU(inplace=True)\n",
       "      (conv2): Conv2d(512, 512, kernel_size=(3, 3), stride=(1, 1), padding=(1, 1), bias=False)\n",
       "      (bn2): BatchNorm2d(512, eps=1e-05, momentum=0.1, affine=True, track_running_stats=True)\n",
       "      (downsample): Sequential(\n",
       "        (0): Conv2d(256, 512, kernel_size=(1, 1), stride=(2, 2), bias=False)\n",
       "        (1): BatchNorm2d(512, eps=1e-05, momentum=0.1, affine=True, track_running_stats=True)\n",
       "      )\n",
       "    )\n",
       "    (1): BasicBlock(\n",
       "      (conv1): Conv2d(512, 512, kernel_size=(3, 3), stride=(1, 1), padding=(1, 1), bias=False)\n",
       "      (bn1): BatchNorm2d(512, eps=1e-05, momentum=0.1, affine=True, track_running_stats=True)\n",
       "      (relu): ReLU(inplace=True)\n",
       "      (conv2): Conv2d(512, 512, kernel_size=(3, 3), stride=(1, 1), padding=(1, 1), bias=False)\n",
       "      (bn2): BatchNorm2d(512, eps=1e-05, momentum=0.1, affine=True, track_running_stats=True)\n",
       "    )\n",
       "  )\n",
       "  (avgpool): AdaptiveAvgPool2d(output_size=(1, 1))\n",
       "  (fc): Linear(in_features=512, out_features=40, bias=True)\n",
       ")"
      ]
     },
     "execution_count": 19,
     "metadata": {},
     "output_type": "execute_result"
    }
   ],
   "source": [
    "model = torch.load('chdig.pkl')\n",
    "model.eval()"
   ]
  },
  {
   "cell_type": "code",
   "execution_count": 20,
   "id": "6999f9af-2353-4d40-9184-b617a537ffcf",
   "metadata": {},
   "outputs": [],
   "source": [
    "filename = 'D:\\\\vs\\\\taitan\\\\taitan\\\\train\\\\hazardous_waste_dry_battery\\\\fimg_4016.jpg'\n",
    "input_image = Image.open(filename).convert('RGB')"
   ]
  },
  {
   "cell_type": "code",
   "execution_count": 21,
   "id": "3cc96d6b",
   "metadata": {},
   "outputs": [
    {
     "data": {
      "image/png": "[encoded data removed]",
      "text/plain": [
       "<PIL.Image.Image image mode=RGB size=232x217 at 0x1A11558CF48>"
      ]
     },
     "execution_count": 21,
     "metadata": {},
     "output_type": "execute_result"
    }
   ],
   "source": [
    "input_image"
   ]
  },
  {
   "cell_type": "code",
   "execution_count": 22,
   "id": "14221d52-94a8-4ab6-9dc3-4902bc305446",
   "metadata": {},
   "outputs": [],
   "source": [
    "input_tensor = data_transform(input_image)\n",
    "input_batch = input_tensor.unsqueeze(0) "
   ]
  },
  {
   "cell_type": "code",
   "execution_count": 23,
   "id": "11807c7d",
   "metadata": {},
   "outputs": [
    {
     "data": {
      "text/plain": [
       "torch.Size([3, 224, 224])"
      ]
     },
     "execution_count": 23,
     "metadata": {},
     "output_type": "execute_result"
    }
   ],
   "source": [
    "input_tensor.shape"
   ]
  },
  {
   "cell_type": "code",
   "execution_count": 24,
   "id": "ecbef49a",
   "metadata": {},
   "outputs": [
    {
     "name": "stdout",
     "output_type": "stream",
     "text": [
      "torch.Size([40])\n",
      "index: 0  prob:  tensor(0.9991)\n"
     ]
    }
   ],
   "source": [
    "model.to('cpu')\n",
    "with torch.no_grad():\n",
    "    output = model(input_batch)\n",
    "print(output[0].shape)\n",
    "prob = F.softmax(output[0], dim=0)\n",
    "indexs = torch.argsort(-prob)\n",
    "topk = 1\n",
    "for i in range(topk):\n",
    "    print(\"index:\", indexs[i].item(), \" prob: \", prob[indexs[i]])"
   ]
  },
  {
   "cell_type": "code",
   "execution_count": null,
   "id": "9c7ee47f",
   "metadata": {},
   "outputs": [],
   "source": []
  }
 ],
 "metadata": {
  "kernelspec": {
   "display_name": "Python 3 (ipykernel)",
   "language": "python",
   "name": "python3"
  },
  "language_info": {
   "codemirror_mode": {
    "name": "ipython",
    "version": 3
   },
   "file_extension": ".py",
   "mimetype": "text/x-python",
   "name": "python",
   "nbconvert_exporter": "python",
   "pygments_lexer": "ipython3",
   "version": "3.7.8"
  }
 },
 "nbformat": 4,
 "nbformat_minor": 5
}
